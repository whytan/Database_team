{
 "metadata": {
  "language_info": {
   "codemirror_mode": {
    "name": "ipython",
    "version": 3
   },
   "file_extension": ".py",
   "mimetype": "text/x-python",
   "name": "python",
   "nbconvert_exporter": "python",
   "pygments_lexer": "ipython3",
   "version": "3.9.5"
  },
  "orig_nbformat": 2,
  "kernelspec": {
   "name": "python3",
   "display_name": "Python 3.9.5 64-bit"
  },
  "interpreter": {
   "hash": "37c359fe7e102cc956ed8913284d8eb9d42b58f65e6c3e37582850dc7beebeb2"
  }
 },
 "nbformat": 4,
 "nbformat_minor": 2,
 "cells": [
  {
   "cell_type": "code",
   "execution_count": null,
   "metadata": {},
   "outputs": [],
   "source": [
    "!pip install -r requirements.txt"
   ]
  },
  {
   "cell_type": "code",
   "execution_count": null,
   "metadata": {},
   "outputs": [],
   "source": [
    "import smtplib\n",
    "import imghdr\n",
    "from email.message import EmailMessage\n",
    "import pandas as pd"
   ]
  },
  {
   "source": [
    "## Add your email and password \n",
    "### make sure turn on less secure for gmail \n",
    "https://myaccount.google.com/u/0/lesssecureapps?pli=1&rapt=AEjHL4Nyoi59loupF3iY24cl8bC9sn0DuLFIVNiGXTH3nA5YKxYJUJcHOEhOS3wsvs8CuEEEYMt2UBsuL88-RLVSXc2RE3JYjg"
   ],
   "cell_type": "markdown",
   "metadata": {}
  },
  {
   "cell_type": "code",
   "execution_count": null,
   "metadata": {},
   "outputs": [],
   "source": [
    "MY_EMAIL = \"\"\n",
    "MY_PASSWORD = \"\""
   ]
  },
  {
   "cell_type": "code",
   "execution_count": null,
   "metadata": {},
   "outputs": [],
   "source": [
    "datas = pd.read_csv('test.csv')\n",
    "datas"
   ]
  },
  {
   "cell_type": "code",
   "execution_count": null,
   "metadata": {},
   "outputs": [],
   "source": [
    "def send_mail(data):\n",
    "    try:\n",
    "        mail_content = f'''\n",
    "Hello {data[\"Name\"]},\n",
    "        '''\n",
    "\n",
    "        Reciever_Email = data['Email Address']\n",
    "        newMessage = EmailMessage()\n",
    "        newMessage['Subject'] = \"EV-DRIVE\"\n",
    "        newMessage['From'] = MY_EMAIL\n",
    "        newMessage['To'] = Reciever_Email\n",
    "        newMessage.set_content(mail_content)\n",
    "\n",
    "        with smtplib.SMTP_SSL('smtp.gmail.com', 465) as smtp:\n",
    "            smtp.login(MY_EMAIL, MY_PASSWORD)\n",
    "            smtp.send_message(newMessage)\n",
    "        print(f'Mail Sent to {data[\"Name\"]}')\n",
    "    except:   \n",
    "        print(data['Email Address'])"
   ]
  },
  {
   "cell_type": "code",
   "execution_count": null,
   "metadata": {},
   "outputs": [],
   "source": [
    "for value in datas.iterrows():\n",
    "    send_mail(value[1])"
   ]
  }
 ]
}